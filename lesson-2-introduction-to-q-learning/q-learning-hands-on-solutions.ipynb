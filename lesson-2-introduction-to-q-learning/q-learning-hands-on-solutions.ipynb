{
 "cells": [
  {
   "cell_type": "markdown",
   "metadata": {},
   "source": [
    "### Asynchronous Q-Iteration "
   ]
  },
  {
   "cell_type": "code",
   "execution_count": 18,
   "metadata": {},
   "outputs": [],
   "source": [
    "import gym\n",
    "from itertools import product\n",
    "env = gym.make('FrozenLake-v0')"
   ]
  },
  {
   "cell_type": "code",
   "execution_count": 11,
   "metadata": {},
   "outputs": [],
   "source": [
    "MDP = dict\n",
    "State = int\n",
    "Action = int\n",
    "Value = float"
   ]
  },
  {
   "cell_type": "code",
   "execution_count": 12,
   "metadata": {},
   "outputs": [],
   "source": [
    "def calculate_value_of_state_action(\n",
    "    markov_decision_process: MDP,\n",
    "    state: State,\n",
    "    action: Action,\n",
    "    state_values: np.array,\n",
    "    discount: float\n",
    ") -> Value:\n",
    "    \"\"\"\n",
    "    Calculates expected value associated with being in a state and taking action\n",
    "    \"\"\"\n",
    "    qvalue = 0\n",
    "    for transition_probability, next_state, reward, done in markov_decision_process[state][action]:\n",
    "        next_state_value = 0 if done else state_values[next_state] \n",
    "        qvalue += transition_probability * (reward + discount*next_state_value)\n",
    "    return qvalue"
   ]
  },
  {
   "cell_type": "code",
   "execution_count": 53,
   "metadata": {},
   "outputs": [],
   "source": [
    "class AsynchrnousQIteration:\n",
    "    def __init__(self, env): \n",
    "        self.env = env\n",
    "        self.Q = np.zeros((env.observation_space.n, env.action_space.n))\n",
    "        self.states = np.arange(env.observation_space.n)\n",
    "        self.actions = np.arange(env.action_space.n)\n",
    "        self.states_actions = list(product(self.states, self.actions))\n",
    "        self.N = env.observation_space.n*env.action_space.n\n",
    "        \n",
    "    def update_qvalues(self):\n",
    "        state, action = self.states_actions[np.random.choice(range(self.N))]\n",
    "        self.Q[state, action] = calculate_value_of_state_action(\n",
    "            env.env.P,\n",
    "            state, \n",
    "            action,\n",
    "            self.Q.max(axis=1),\n",
    "            0.99\n",
    "        )"
   ]
  },
  {
   "cell_type": "code",
   "execution_count": 57,
   "metadata": {},
   "outputs": [],
   "source": [
    "async_qiteration = AsynchrnousQIteration(env)\n",
    "[async_qiteration.update_qvalues() for _ in range(100000)]"
   ]
  },
  {
   "cell_type": "markdown",
   "metadata": {},
   "source": [
    "#### Learning Q-Values without the Model "
   ]
  },
  {
   "cell_type": "markdown",
   "metadata": {},
   "source": [
    "#### 1.2 Learning Q-Function with $\\epsilon$-greedy"
   ]
  },
  {
   "cell_type": "markdown",
   "metadata": {},
   "source": [
    "### Deep Q-Learning "
   ]
  },
  {
   "cell_type": "markdown",
   "metadata": {},
   "source": [
    "1. Implement Replay Buffer \n",
    "2. Create Target Updates \n",
    "3. Observe the Difference "
   ]
  }
 ],
 "metadata": {
  "hide_input": false,
  "kernelspec": {
   "display_name": "Python 3",
   "language": "python",
   "name": "python3"
  },
  "language_info": {
   "codemirror_mode": {
    "name": "ipython",
    "version": 3
   },
   "file_extension": ".py",
   "mimetype": "text/x-python",
   "name": "python",
   "nbconvert_exporter": "python",
   "pygments_lexer": "ipython3",
   "version": "3.6.4"
  },
  "toc": {
   "nav_menu": {},
   "number_sections": true,
   "sideBar": true,
   "skip_h1_title": false,
   "title_cell": "Table of Contents",
   "title_sidebar": "Contents",
   "toc_cell": false,
   "toc_position": {},
   "toc_section_display": true,
   "toc_window_display": false
  },
  "varInspector": {
   "cols": {
    "lenName": 16,
    "lenType": 16,
    "lenVar": 40
   },
   "kernels_config": {
    "python": {
     "delete_cmd_postfix": "",
     "delete_cmd_prefix": "del ",
     "library": "var_list.py",
     "varRefreshCmd": "print(var_dic_list())"
    },
    "r": {
     "delete_cmd_postfix": ") ",
     "delete_cmd_prefix": "rm(",
     "library": "var_list.r",
     "varRefreshCmd": "cat(var_dic_list()) "
    }
   },
   "types_to_exclude": [
    "module",
    "function",
    "builtin_function_or_method",
    "instance",
    "_Feature"
   ],
   "window_display": false
  }
 },
 "nbformat": 4,
 "nbformat_minor": 2
}
