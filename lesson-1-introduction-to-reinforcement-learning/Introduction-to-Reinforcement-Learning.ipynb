{
 "cells": [
  {
   "cell_type": "markdown",
   "metadata": {},
   "source": [
    "## Lesson Objectives \n",
    "\n",
    "- Provide overview of Reinforcement Learning \n",
    "- Describe Markov Decision Processes (MDPs) \n",
    "- Implement Value and Policy Iteration \n",
    "- Actor-Critic Methods \n",
    "- Case Study: Optimizing Tax Collections with Constrained Value Iteration "
   ]
  },
  {
   "cell_type": "markdown",
   "metadata": {},
   "source": [
    "## Introduction to Reinforcement Learning\n",
    "\n",
    "Reinforcement Learning is the _computational_ approach to learning from interaction (Sutton & Barto). Autonomous agents performing goal-oriented learning based on experience is the holy-grail of AI. Reinforcement Learning has a rich history with many successes in variety of different application areas. Before 2012, Reinforcement Learning achieved big wins in areas where you can model the dynamics of the underlying system well and subsequently apply planning algorithms to do the ultimate optimization. Pre-2012 wins in RL include: \n",
    "\n",
    "- **[[1992] TD-Gammon](http://www.bkgm.com/articles/tesauro/tdl.html)**: Tesauro et al. trained a multi-layer perceptron with Temporal Difference Learning and Self-Play  to beat the world's best Backgammon players. \n",
    "\n",
    "- **[[2004] Autonomous Helicopter Aerobatics through Apprenticeship Learning](https://cs.stanford.edu/~acoates/papers/AbbeelCoatesNg_IJRR2010.pdf)**: Ng et al. learnt the _dynamics of the model_ through expert flight trajectories and then applied an optimal control and dynamic programming to achieve state of the art in aerobatic helicopter flight. \n",
    "\n",
    "- **[[2011] Optimizing Tax Collections Constrained Reinforcement Learning](https://pdfs.semanticscholar.org/ddb1/fab21ebf37b1eb71c90844ec273d38ebf1bc.pdf)**: Melville et al. optimized tax collections for the New York state government leading to \\$120-150 Million in savings for the state over the course of three years. \n",
    "--- \n",
    "More recently, state of the art in Reinforcement Learning is leveraging recent advances in Deep Neural Networks which has created a new field called Deep Reinforcement Learning. \n",
    "<p>\n",
    "<img src=https://spectrum.ieee.org/image/MjczNjQ4NA.gif>\n",
    "<center> <em> Distributed Data Collection for Robots Learning to Grasp </em> </center>\n",
    "</p> \n",
    "\n",
    "- **[[2013] Human-level performance on many Atari games](https://storage.googleapis.com/deepmind-media/dqn/DQNNaturePaper.pdf)**: Leveraging Convolutional Neural Networks and Q-Learning to surpass human performance in many Atari games. \n",
    "- **[[2016] AlphaGo and its successors](https://deepmind.com/research/alphago/)**: Probably the most famous result in modern Deep RL where Silver et al. beat world's best players in Go with MCTS and Neural Networks to represent the value function. \n",
    "- **[[2018] Learning Grasping and Dexterity](https://arxiv.org/abs/1806.10293)**: Recently, team from Google Brain released QT-Opt, a scalable self-supervised vision-based reinforcement learning framework that can leverage over 580k real-world grasp attempts to train a deep neural network Q-function with over 1.2M parameters to perform closed-loop, real-world grasping that generalizes to 96% grasp success on unseen objects\n",
    "\n",
    "\n",
    "\n",
    "\n",
    "[![IMAGE_ALT_TEXT](http://opexanalytics.com/cnt/uploads/2017/11/LSMW_1.jpg)](https://www.youtube.com/watch?time_continue=8&v=gQa6iWGcGWY)\n",
    "<center> <em> Optimizing Supply Chains with DQN </em> </center> \n",
    "\n",
    "Reinforcement Learning as a paradigm offers a lot of interesting avenues of applications. Despite these successes, industrial applications of RL outside of organizations with easy access to large-scale compute and software infrastructure remain sparse. Wide-spread applications of RL require more sample efficient algorithms and new software tools for doing distributed computing. Our goal with this tutorial is two-fold:\n",
    "\n",
    "> Provide a solid conceptual foundation for understanding and evaluating existing state of the art RL methods (both strengths and weaknesses).\n",
    "\n",
    "> Showcase Ray, an emerging distributed execution framework, for experimenting with and deploying large-scale Reinforcement Learning algorithms.\n",
    "\n",
    "We believe that RL works well on applied problems where: 1.) Gathering simulations and experience is cheap, e.g. games, narrow-domain robotics; 2.) Modelers have access to a compact representation of the environment dynamics to apply approximate dynamic programming.\n",
    "\n",
    "\n",
    "--- \n",
    "### Markov Decision Processes (MDPs)\n",
    "<img src=https://cdn-images-1.medium.com/max/1600/1*3NziBtrANN6UVltplxwaGA.png>\n",
    "<center> <em> <a href=http://pavel.surmenok.com/wp-content/uploads/2017/08/contextual-bandits-1.png> Source </em> </center>\n",
    "\n",
    "Reinforcement Learning involves **agents taking actions in non-stationary environments that maximize the total sum of discounted future rewards.** This likewise gives rise to **Markov Decision Processes** which consists of: \n",
    "\n",
    "- *States*: $S$\n",
    "- *Actions*: $A$\n",
    "- *Transition Probabilities*: $T(s' | s, a)$\n",
    "- *A scalar value Reward Function*: $R(s, a)$ \n",
    "- *$\\gamma$*: Discount Factor which generally represents how much patience an agent should have in an environment. \n",
    "\n",
    "Note: The Markov Assumption in *M*DP comes from the fact that:\n",
    "$$P[S_{t+1} | S_{t}] = P[S_{t+1} | S_1, ... , S_t]$$"
   ]
  },
  {
   "cell_type": "markdown",
   "metadata": {},
   "source": [
    "#### Let's look at an example MDP..."
   ]
  },
  {
   "cell_type": "code",
   "execution_count": 40,
   "metadata": {},
   "outputs": [],
   "source": [
    "import gym \n",
    "import numpy as np\n",
    "from gym.envs.toy_text.frozen_lake import FrozenLakeEnv"
   ]
  },
  {
   "cell_type": "code",
   "execution_count": 17,
   "metadata": {},
   "outputs": [
    {
     "name": "stdout",
     "output_type": "stream",
     "text": [
      "\n",
      "    Winter is here. You and your friends were tossing around a frisbee at the park\n",
      "    when you made a wild throw that left the frisbee out in the middle of the lake.\n",
      "    The water is mostly frozen, but there are a few holes where the ice has melted.\n",
      "    If you step into one of those holes, you'll fall into the freezing water.\n",
      "    At this time, there's an international frisbee shortage, so it's absolutely imperative that\n",
      "    you navigate across the lake and retrieve the disc.\n",
      "    However, the ice is slippery, so you won't always move in the direction you intend.\n",
      "    The surface is described using a grid like the following\n",
      "\n",
      "        SFFF\n",
      "        FHFH\n",
      "        FFFH\n",
      "        HFFG\n",
      "\n",
      "    S : starting point, safe\n",
      "    F : frozen surface, safe\n",
      "    H : hole, fall to your doom\n",
      "    G : goal, where the frisbee is located\n",
      "\n",
      "    The episode ends when you reach the goal or fall in a hole.\n",
      "    You receive a reward of 1 if you reach the goal, and zero otherwise.\n",
      "\n",
      "    \n"
     ]
    }
   ],
   "source": [
    "print(FrozenLakeEnv.__doc__)"
   ]
  },
  {
   "cell_type": "markdown",
   "metadata": {},
   "source": [
    "**Check for Understanding...**\n",
    "\n",
    "1. How many states does the `FrozenLake` enviornment have?\n",
    "2. What is the size of the action set? \n",
    "3. What is the reward? \n",
    "4. What will be the size of the transition probabilities? "
   ]
  },
  {
   "cell_type": "code",
   "execution_count": 32,
   "metadata": {},
   "outputs": [],
   "source": [
    "env = gym.make('FrozenLake-v0')"
   ]
  },
  {
   "cell_type": "code",
   "execution_count": 30,
   "metadata": {},
   "outputs": [
    {
     "data": {
      "text/plain": [
       "{0: [(0.3333333333333333, 10, 0.0, False),\n",
       "  (0.3333333333333333, 13, 0.0, False),\n",
       "  (0.3333333333333333, 14, 0.0, False)],\n",
       " 1: [(0.3333333333333333, 13, 0.0, False),\n",
       "  (0.3333333333333333, 14, 0.0, False),\n",
       "  (0.3333333333333333, 15, 1.0, True)],\n",
       " 2: [(0.3333333333333333, 14, 0.0, False),\n",
       "  (0.3333333333333333, 15, 1.0, True),\n",
       "  (0.3333333333333333, 10, 0.0, False)],\n",
       " 3: [(0.3333333333333333, 15, 1.0, True),\n",
       "  (0.3333333333333333, 10, 0.0, False),\n",
       "  (0.3333333333333333, 13, 0.0, False)]}"
      ]
     },
     "execution_count": 30,
     "metadata": {},
     "output_type": "execute_result"
    }
   ],
   "source": [
    "# accessing the MDP\n",
    "\n",
    "# accessing state 14\n",
    "env.env.P[14]"
   ]
  },
  {
   "cell_type": "code",
   "execution_count": 31,
   "metadata": {},
   "outputs": [
    {
     "data": {
      "text/plain": [
       "[(0.3333333333333333, 13, 0.0, False),\n",
       " (0.3333333333333333, 14, 0.0, False),\n",
       " (0.3333333333333333, 15, 1.0, True)]"
      ]
     },
     "execution_count": 31,
     "metadata": {},
     "output_type": "execute_result"
    }
   ],
   "source": [
    "# accessing outcome of action 1 in state 14\n",
    "env.env.P[14][1]"
   ]
  },
  {
   "cell_type": "markdown",
   "metadata": {},
   "source": [
    "**Note: This is a stochastic MDP. The first tuple represents going to state 13 by taking action 1 state 14 with probability 0.33 and achieving reward 0.0 without it being the terminal state.** In this toy example, how do we get to our **goal state**? We have access to the MDP and know the transition model so this just becomes a *simple planning problem*."
   ]
  },
  {
   "cell_type": "markdown",
   "metadata": {},
   "source": [
    "### Value Iteration \n",
    "\n",
    "*Policy* $\\pi(a | s) $: Specifies which action to take in a given state $s$. \n",
    "\n",
    "*Value Function:* Input state $s$ and outputs the value of being in that state $s$ under a particular policy $\\pi$: $V^{\\pi}: S \\rightarrow \\mathbb{R}$\n",
    "\n",
    "<p>\n",
    "$$V^{\\pi}(s) = R^{\\pi}(s) + \\gamma \\Sigma_{s' \\in S} T(s' | s, \\pi(a | s))V^{\\pi}(s')$$\n",
    "</p>\n",
    "\n",
    "Note the recursive update. This can be represented as: \n",
    "<p>\n",
    "$$\n",
    "\\begin{bmatrix}\n",
    "           V^{\\pi}(s_1) \\\\\n",
    "           V^{\\pi}(s_2)  \\\\\n",
    "           \\vdots \\\\\n",
    "           V^{\\pi}(s_n)\n",
    "         \\end{bmatrix} = \\begin{bmatrix}\n",
    "           R^{\\pi}(s_1) \\\\\n",
    "           R^{\\pi}(s_2)  \\\\\n",
    "           \\vdots \\\\\n",
    "           R^{\\pi}(s_n)\n",
    "         \\end{bmatrix} + \\gamma \\begin{bmatrix}\n",
    "    T(s_1, | s_1, \\pi(s_1))       & T(s_2, | s_1, \\pi(s_1)) & \\dots & T(s_n, | s_1, \\pi(s_1)) \\\\\n",
    "    T(s_1, | s_2, \\pi(s_2))       & T(s_2, | s_2, \\pi(s_2)) & \\dots & T(s_n, | s_2, \\pi(s_1)) \\\\\n",
    "    \\vdots \\ddots \\\\\n",
    "    T(s_1, | s_n, \\pi(s_n))       & T(s_2, | s_n, \\pi(s_n)) & \\dots & T(s_n, | s_n, \\pi(s_n)) \\\\\n",
    "\\end{bmatrix}\\begin{bmatrix}\n",
    "           V^{\\pi}(s_1) \\\\\n",
    "           V^{\\pi}(s_2)  \\\\\n",
    "           \\vdots \\\\\n",
    "           V^{\\pi}(s_n)\n",
    "         \\end{bmatrix}\n",
    "$$\n",
    "</p>\n",
    "\n",
    "<p>\n",
    "    $$ V^\\pi = R^\\pi + \\gamma TV^\\pi $$ \n",
    "</p>\n",
    "\n",
    "\n",
    "Hence, we can derive an iterative algorithm for computing the value function: \n",
    "\n",
    "**Step 1**: Initialize $t=0$, $V^\\pi_0(s)$. \n",
    "\n",
    "**Step 2**: \n",
    "- Repeat Until Convergence. \n",
    "    - $V_t^\\pi = R^\\pi + \\gamma T^\\pi V_{t-1}^\\pi$\n",
    "\n",
    "Upon convergence, we can compute the optimal control policy: \n",
    "\n",
    "$$ \\pi^{*}(s) = \\arg\\max_{\\pi} $$ \n",
    "\n",
    "#### Intuition for Why This Converges \n",
    "\n",
    "\n"
   ]
  },
  {
   "cell_type": "code",
   "execution_count": 43,
   "metadata": {},
   "outputs": [],
   "source": [
    "# Create MDP for the Frozen-Lake Enviornment \n",
    "S = np.arange(env.observation_space.n)\n",
    "A = np.arange(env.action_space.n)\n",
    "T = env.env.P"
   ]
  },
  {
   "cell_type": "code",
   "execution_count": 142,
   "metadata": {},
   "outputs": [],
   "source": [
    "MDP =  tuple\n",
    "V = np.array\n",
    "\n",
    "def value_iteration_frozen_lake(mdp: MDP, gamma: float, epsilon: float) -> V: \n",
    "\n",
    "    states, actions, transition_probabilities = mdp\n",
    "\n",
    "    # Initialize the value function \n",
    "    V = np.zeros(states.shape)\n",
    "    \n",
    "    # Repeat until convergence \n",
    "    while True: \n",
    "        Q = np.zeros((len(states), len(actions)), dtype=float)\n",
    "        V_old = V.copy()\n",
    "        for state in states: \n",
    "            for action in actions: \n",
    "                for probability, next_state, reward, done in transition_probabilities[state][action]:\n",
    "                    Q[state][action] += probability * (reward + gamma * V_old[next_state] * (not done))\n",
    "            V[state] = Q[state].max()\n",
    "        if np.sum(np.abs(V - V_old)) < epsilon:\n",
    "            break\n",
    "    return V\n",
    "                "
   ]
  },
  {
   "cell_type": "code",
   "execution_count": 173,
   "metadata": {},
   "outputs": [
    {
     "data": {
      "image/png": "[encoded data removed]",
      "text/plain": [
       "<Figure size 432x288 with 1 Axes>"
      ]
     },
     "metadata": {},
     "output_type": "display_data"
    }
   ],
   "source": [
    "fig, ax = plt.subplots()\n",
    "# Using matshow here just because it sets the ticks up nicely. imshow is faster.\n",
    "ax.imshow(value_iteration_frozen_lake((S, A, T), 0.99, 0.001).reshape(4, 4), cmap='seismic')\n",
    "\n",
    "for (i, j), z in np.ndenumerate(value_iteration_frozen_lake((S, A, T), 0.99, 0.001).reshape(4, 4)):\n",
    "    ax.text(j, i, '{:0.1f}'.format(z), ha='center', va='center', bbox=dict(boxstyle='round', facecolor='white', edgecolor='0.3'))\n",
    "\n"
   ]
  },
  {
   "cell_type": "code",
   "execution_count": 158,
   "metadata": {},
   "outputs": [
    {
     "data": {
      "text/plain": [
       "array([[0.539, 0.495, 0.466, 0.452],\n",
       "       [0.556, 0.   , 0.356, 0.   ],\n",
       "       [0.59 , 0.641, 0.614, 0.   ],\n",
       "       [0.   , 0.741, 0.862, 0.   ]])"
      ]
     },
     "execution_count": 158,
     "metadata": {},
     "output_type": "execute_result"
    }
   ],
   "source": [
    "value_iteration_frozen_lake((S, A, T), 0.99, 0.001).reshape(4, 4)"
   ]
  },
  {
   "cell_type": "code",
   "execution_count": 143,
   "metadata": {},
   "outputs": [
    {
     "data": {
      "text/plain": [
       "array([0.539, 0.495, 0.466, 0.452, 0.556, 0.   , 0.356, 0.   , 0.59 ,\n",
       "       0.641, 0.614, 0.   , 0.   , 0.741, 0.862, 0.   ])"
      ]
     },
     "execution_count": 143,
     "metadata": {},
     "output_type": "execute_result"
    }
   ],
   "source": [
    "value_iterationa_frozen_lake((S, A, T), 0.99, 0.001)"
   ]
  },
  {
   "cell_type": "code",
   "execution_count": 163,
   "metadata": {},
   "outputs": [],
   "source": [
    "def value_iteration(S, A, P, gamma=.99, theta = 0.0000001):\n",
    " \n",
    "    V = np.random.random(len(S))\n",
    "    for i in range(100000):\n",
    "        old_V = V.copy()\n",
    "        \n",
    "        Q = np.zeros((len(S), len(A)), dtype=float)\n",
    "        for s in S:\n",
    "            for a in A:\n",
    "                for prob, s_prime, reward, done in P[s][a]:\n",
    "                    Q[s][a] += prob * (reward + gamma * old_V[s_prime] * (not done))\n",
    "            V[s] = Q[s].max()\n",
    "\n",
    "        if np.all(np.abs(old_V - V) < theta):\n",
    "            break\n",
    "    \n",
    "    pi = np.argmax(Q, axis=1)\n",
    "    return pi, V"
   ]
  },
  {
   "cell_type": "code",
   "execution_count": 164,
   "metadata": {},
   "outputs": [
    {
     "data": {
      "text/plain": [
       "(array([0, 3, 3, 3, 0, 0, 0, 0, 3, 1, 0, 0, 0, 2, 1, 0]),\n",
       " array([0.542, 0.499, 0.471, 0.457, 0.558, 0.   , 0.358, 0.   , 0.592,\n",
       "        0.643, 0.615, 0.   , 0.   , 0.742, 0.863, 0.   ]))"
      ]
     },
     "execution_count": 164,
     "metadata": {},
     "output_type": "execute_result"
    }
   ],
   "source": [
    "value_iteration(S, A, T)"
   ]
  },
  {
   "cell_type": "code",
   "execution_count": 165,
   "metadata": {},
   "outputs": [
    {
     "data": {
      "text/plain": [
       "{0: [(1.0, 15, 0, True)],\n",
       " 1: [(1.0, 15, 0, True)],\n",
       " 2: [(1.0, 15, 0, True)],\n",
       " 3: [(1.0, 15, 0, True)]}"
      ]
     },
     "execution_count": 165,
     "metadata": {},
     "output_type": "execute_result"
    }
   ],
   "source": [
    "T[15]"
   ]
  },
  {
   "cell_type": "code",
   "execution_count": null,
   "metadata": {},
   "outputs": [],
   "source": []
  },
  {
   "cell_type": "code",
   "execution_count": null,
   "metadata": {},
   "outputs": [],
   "source": []
  },
  {
   "cell_type": "code",
   "execution_count": 44,
   "metadata": {},
   "outputs": [],
   "source": [
    "# Let's see what this looks like in code. \n",
    "convergence_epsilon = 0.001\n",
    "V = np.zeros_like(S)\n",
    "while True: \n",
    "    old_V = V.copy()\n",
    "    for s in S: \n",
    "        V[s] = \n",
    "        "
   ]
  }
 ],
 "metadata": {
  "hide_input": false,
  "kernelspec": {
   "display_name": "Python 3",
   "language": "python",
   "name": "python3"
  },
  "language_info": {
   "codemirror_mode": {
    "name": "ipython",
    "version": 3
   },
   "file_extension": ".py",
   "mimetype": "text/x-python",
   "name": "python",
   "nbconvert_exporter": "python",
   "pygments_lexer": "ipython3",
   "version": "3.6.4"
  },
  "toc": {
   "nav_menu": {},
   "number_sections": true,
   "sideBar": true,
   "skip_h1_title": false,
   "title_cell": "Table of Contents",
   "title_sidebar": "Contents",
   "toc_cell": false,
   "toc_position": {},
   "toc_section_display": true,
   "toc_window_display": false
  },
  "varInspector": {
   "cols": {
    "lenName": 16,
    "lenType": 16,
    "lenVar": 40
   },
   "kernels_config": {
    "python": {
     "delete_cmd_postfix": "",
     "delete_cmd_prefix": "del ",
     "library": "var_list.py",
     "varRefreshCmd": "print(var_dic_list())"
    },
    "r": {
     "delete_cmd_postfix": ") ",
     "delete_cmd_prefix": "rm(",
     "library": "var_list.r",
     "varRefreshCmd": "cat(var_dic_list()) "
    }
   },
   "types_to_exclude": [
    "module",
    "function",
    "builtin_function_or_method",
    "instance",
    "_Feature"
   ],
   "window_display": false
  }
 },
 "nbformat": 4,
 "nbformat_minor": 2
}
